{
  "cells": [
    {
      "cell_type": "markdown",
      "metadata": {
        "id": "view-in-github",
        "colab_type": "text"
      },
      "source": [
        "<a href=\"https://colab.research.google.com/github/gecitemre/403-the2/blob/main/Copy_of_CENG403_2025_Spring_THE2.ipynb\" target=\"_parent\"><img src=\"https://colab.research.google.com/assets/colab-badge.svg\" alt=\"Open In Colab\"/></a>"
      ]
    },
    {
      "cell_type": "markdown",
      "metadata": {
        "id": "iB0of46BAKM5"
      },
      "source": [
        "# **Take-Home Exam 2 (THE-2)**\n",
        "## CENG403 - Spring 2025\n",
        "\n",
        "In this THE, we will focus on implementing a CNN and an RNN from scratch or using PyTorch:\n",
        "\n",
        "*   Task 1: Implementing a forward function of your own deformable CNN from scratch (30 pts).\n",
        "*   Task 2: Implementing CNN in PyTorch (40 pts).\n",
        "*   Task 3: Implementing RNN using torch.autograd (30 pts).\n",
        "\n",
        "**Getting Ready**\n",
        "\n",
        "You can use the following tutorials if you need more details about the libraries/tools you will use:\n",
        "\n",
        "*   **Jupyter Notebook and Colab**:\n",
        " * https://www.dataquest.io/blog/jupyter-notebook-tutorial/\n",
        " * https://colab.research.google.com/\n",
        "* **NumPy**\n",
        " * https://numpy.org/devdocs/user/quickstart.html\n",
        "* **PyTorch**:\n",
        " * https://pytorch.org/tutorials/beginner/deep_learning_60min_blitz.html\n"
      ]
    },
    {
      "cell_type": "markdown",
      "metadata": {
        "id": "aeX1wLM2AO1H"
      },
      "source": [
        "## **Task 1: Implement a Forward Pass of Your Own Deformable CNN (30 Points)**\n",
        "\n",
        "In this task, you are responsible for implementing the forward pass of [deformable convolution v2](https://arxiv.org/abs/1811.11168).\n",
        "\n",
        "**Note that you should implement all functions from scratch! Using PyTorch or any other libraries except for `numpy` in your implementation will be evaluated as 0 (zero).**\n"
      ]
    },
    {
      "cell_type": "markdown",
      "metadata": {
        "id": "yRAgl1rfpTEq"
      },
      "source": [
        "### **1.1 Forward Pass Implementation (30 Points)**\n",
        "\n",
        "Standard convolution (along one dimension of the input layer) with a filter size of $K$ at location $\\mathbf{p}_0$ can be formally defined as:\n",
        "\n",
        "$$\n",
        "\\mathbf{a}^{l+1}(\\mathbf{p}_0) = \\sum_{k=0}^{K-1}  \\mathbf{w}(k) \\cdot \\mathbf{a}^l(\\mathbf{p}_0 + \\mathbf{p}_k),\n",
        "$$\n",
        "\n",
        "where:\n",
        "\n",
        "*    $\\mathbf{a}^l$ is the input feature map,\n",
        "*    $\\mathbf{a}^{l+1}$ is the output feature map,\n",
        "*    $\\mathbf{w}$ is the convolution kernel,\n",
        "*    $\\mathbf{p}_k$ is the fixed offset of the $k$-th sampling location (e.g., for a 1D feature map and a filter size of 3, $\\mathbf{p}_k \\in \\{0, 1, 2\\}$).\n",
        "\n",
        "\n",
        "Deformable convolution v2 introduces learnable offsets $\\Delta \\mathbf{p}_k$ and modulation scalars $m_k \\in [0,1]$:\n",
        "\n",
        "$$\n",
        "\\mathbf{a}^{l+1}(\\mathbf{p}_0) = \\sum_{k=0}^{K-1} \\mathbf{w}(k) \\cdot \\left( m_k \\cdot \\mathbf{a}^l(\\mathbf{p}_0 + \\mathbf{p}_k + \\Delta \\mathbf{p}_k) \\right),\n",
        "$$\n",
        "\n",
        "where:\n",
        "\n",
        "*    $\\Delta \\mathbf{p}_k$ are learned dynamic offsets,\n",
        "*    $m_k$ are learned modulation scalars (also called a mask).\n",
        "\n",
        "Since $\\mathbf{p}_0 + \\mathbf{p}_k + \\Delta \\mathbf{p}_k$ may be fractional, bilinear interpolation is used. For any fractional position $\\mathbf{q}$ with $x$ and $y$ coordinates  $\\mathbf{q} = (q_x, q_y)$, we first identify the closest integer positions:\n",
        "\n",
        "$$\n",
        "\\begin{aligned}\n",
        "\\mathbf{p}_{\\text{lt}} &= (\\lfloor q_x \\rfloor, \\lfloor q_y \\rfloor) \\quad \\text{(left top)}, \\\\\n",
        "\\mathbf{p}_{\\text{rt}} &= (\\lceil q_x \\rceil, \\lfloor q_y \\rfloor) \\quad \\text{(right top)}, \\\\\n",
        "\\mathbf{p}_{\\text{lb}} &= (\\lfloor q_x \\rfloor, \\lceil q_y \\rceil) \\quad \\text{(left bottom)}, \\\\\n",
        "\\mathbf{p}_{\\text{rb}} &= (\\lceil q_x \\rceil, \\lceil q_y \\rceil) \\quad \\text{(right bottom)},\n",
        "\\end{aligned}\n",
        "$$\n",
        "\n",
        "where $\\lfloor \\cdot \\rfloor$ denotes rounding down, and $\\lceil \\cdot \\rceil$ rounding up to the closest integer.\n",
        "\n",
        "Given these closest integer positions, bilinear interpolation for a fractional position $\\mathbf{q}$ can be defined as:\n",
        "\n",
        "$$\n",
        "\\mathbf{a}(\\mathbf{q}) = \\sum_{\\mathbf{p}_i \\in \\{\\mathbf{p}_{\\text{lt}}, \\mathbf{p}_{\\text{rt}}, \\mathbf{p}_{\\text{lb}}, \\mathbf{p}_{\\text{rb}}\\}} G(\\mathbf{p}_i, \\mathbf{q}) \\cdot \\mathbf{a}(\\mathbf{p}_i),\n",
        "$$\n",
        "\n",
        "where the bilinear interpolation weight $G(\\mathbf{p}, \\mathbf{q})$ is:\n",
        "\n",
        "$$\n",
        "G(\\mathbf{p}, \\mathbf{q}) = (1 - |{p}_x - {q}_{x}|) \\cdot (1 - |{p}_y - {q}_{y}|).\n",
        "$$\n",
        "\n",
        "With these definitions, we can write down deformable convolution in a complete form as follows:\n",
        "\n",
        "$$\n",
        "\\mathbf{a}^{l+1}(\\mathbf{p}_0) = \\sum_{k=0}^{K-1} \\mathbf{w}(k) \\cdot m_k \\cdot \\left( \\sum_{\\mathbf{p}_i} G(\\mathbf{p}_i, \\mathbf{p}_0 + \\mathbf{p}_k + \\Delta \\mathbf{p}_k) \\cdot \\mathbf{a}^l(\\mathbf{p}_i) \\right).\n",
        "$$\n",
        "\n",
        "For more details, please check the [paper](https://arxiv.org/abs/1811.11168) or [this tutorial](https://pub.towardsai.net/review-dcnv2-deformable-convnets-v2-object-detection-instance-segmentation-3d8a18bee2f5).\n",
        "\n",
        "You are expected to complete the given `deformable_conv2d_np()` function.\n",
        "\n",
        "**Do not change functions arguments and return value.**"
      ]
    },
    {
      "cell_type": "code",
      "execution_count": 1,
      "metadata": {
        "id": "f1wDiLscVoO4"
      },
      "outputs": [],
      "source": [
        "import numpy as np\n",
        "\n",
        "def bilinear_interpolate(a_l, q_y, q_x):\n",
        "    \"\"\"\n",
        "    Perform bilinear interpolation on the input activation map at the given (fractional) coordinates.\n",
        "\n",
        "    Args:\n",
        "        a_l (np.ndarray): 2D array of shape (H, W) representing the activation map (feature map) at a certain layer.\n",
        "        q_y (float): Y-coordinate (row index) where interpolation is to be performed.\n",
        "        q_x (float): X-coordinate (column index) where interpolation is to be performed.\n",
        "\n",
        "    Returns:\n",
        "        out (np.ndarray): Interpolated value at (q_x, q_y).\n",
        "    \"\"\"\n",
        "    #######################################################\n",
        "    # Implement bilinear interpolation\n",
        "    #######################################################\n",
        "\n",
        "    H, W = a_l.shape\n",
        "\n",
        "    y0_f = np.floor(q_y)\n",
        "    x0_f = np.floor(q_x)\n",
        "    y0 = int(y0_f)\n",
        "    x0 = int(x0_f)\n",
        "    y1 = y0 + 1\n",
        "    x1 = x0 + 1\n",
        "\n",
        "    # Fractional parts (distances from top-left integer coord)\n",
        "    # dx = q_x - floor(q_x)\n",
        "    # dy = q_y - floor(q_y)\n",
        "    dy = q_y - y0_f\n",
        "    dx = q_x - x0_f\n",
        "\n",
        "    # Get values of the four corners, with zero padding for out-of-bounds\n",
        "    # a_l[y, x] is accessed safely. If y or x is out of bounds [0, H-1] or [0, W-1], value is 0.0.\n",
        "    val_lt = a_l[y0, x0] if (0 <= y0 < H and 0 <= x0 < W) else 0.0\n",
        "    val_rt = a_l[y0, x1] if (0 <= y0 < H and 0 <= x1 < W) else 0.0\n",
        "    val_lb = a_l[y1, x0] if (0 <= y1 < H and 0 <= x0 < W) else 0.0\n",
        "    val_rb = a_l[y1, x1] if (0 <= y1 < H and 0 <= x1 < W) else 0.0\n",
        "\n",
        "    # Interpolate using the standard formula:\n",
        "    # V = V_lt * (1-dx)(1-dy) + V_rt * dx(1-dy) + V_lb * (1-dx)dy + V_rb * dx*dy\n",
        "    out = (val_lt * (1 - dx) * (1 - dy) +\n",
        "           val_rt * dx * (1 - dy) +\n",
        "           val_lb * (1 - dx) * dy +\n",
        "           val_rb * dx * dy)\n",
        "    return out\n",
        "\n",
        "def deform_conv2d_np(a_l, delta, mask, weight, stride=1, padding=0, dilation=1):\n",
        "    \"\"\"\n",
        "    Deformable Conv2D v2 operation (forward pass) implemented in NumPy.\n",
        "\n",
        "    Args:\n",
        "        a_l (np.ndarray): Input feature map of shape (N, C_in, H_in, W_in),\n",
        "                            where N is the batch size, C_in is the number of\n",
        "                            input channels, and (H_in, W_in) are the height and\n",
        "                            width of the input feature map. input corresponds to\n",
        "                            'a^l' in the above formulation.\n",
        "\n",
        "        delta (np.ndarray): Learned/estimated offsets of shape (N, 2 * K_h * K_w, H_out, W_out),\n",
        "                             where K_h and K_w are the kernel height and width,\n",
        "                             and (H_out, W_out) are the spatial dimensions of\n",
        "                             the output feature map. The offset tensor corresponds\n",
        "                             to 'Delta-p' in the above formulation and provides\n",
        "                             the x and y displacements for each sampled point.\n",
        "\n",
        "        mask (np.ndarray): Learned modulation masks of shape (N, K_h*K_w, H_out, W_out).\n",
        "                           Corresponds to 'm' in the above formulation.\n",
        "\n",
        "        weight (np.ndarray): Convolution kernel of shape (C_out, C_in, K_h, K_w),\n",
        "                             where C_out is the number of output channels. Corresponds\n",
        "                             to 'w' in the above formulation.\n",
        "\n",
        "        stride (int): Stride of the convolution. Determines the spacing between\n",
        "                               sampled input locations. Default is 1.\n",
        "\n",
        "        padding (int): Zero-padding added to both sides of the input along height and width.\n",
        "                                Default is 0.\n",
        "\n",
        "        dilation (int): Dilation factor for the convolution kernel.\n",
        "                                 Controls the spacing between kernel elements. Default is 1.\n",
        "\n",
        "    Returns:\n",
        "        out (np.ndarray): Output feature map of shape (N, C_out, H_out, W_out),\n",
        "                          where each position is computed via deformable convolution using\n",
        "                          bilinearly interpolated input values and learned offsets.\n",
        "                          Corresponds to 'a^l+1' in the above formulation.\n",
        "    \"\"\"\n",
        "    #######################################################\n",
        "    # Step 1: Preparing hyperparameters, pad input, and initialize output\n",
        "    #######################################################\n",
        "    N, C_in, H_in, W_in = a_l.shape\n",
        "    C_out, _, K_h, K_w = weight.shape\n",
        "    # Output spatial dims\n",
        "    H_out = ((H_in + 2 * padding - dilation * (K_h - 1) - 1) // stride) + 1\n",
        "    W_out = ((W_in + 2 * padding - dilation * (K_w - 1) - 1) // stride) + 1\n",
        "    # Pad input\n",
        "    if padding > 0:\n",
        "        a_l_padded = np.pad(a_l, ((0,0),(0,0),(padding,padding),(padding,padding)), mode='constant')\n",
        "    else:\n",
        "        a_l_padded = a_l\n",
        "    H_pad, W_pad = a_l_padded.shape[2:]\n",
        "    # Output tensor\n",
        "    out = np.zeros((N, C_out, H_out, W_out), dtype=a_l.dtype)\n",
        "\n",
        "    #######################################################\n",
        "    # Step 2: Iterating over all coordinates\n",
        "    # HINT: You should constuct nested loops considering all dimensions of input and kernel\n",
        "    #######################################################\n",
        "    for n in range(N):\n",
        "        for c_out in range(C_out):\n",
        "            for h_out in range(H_out):\n",
        "                for w_out in range(W_out):\n",
        "                    for c_in in range(C_in):\n",
        "                        for k_h in range(K_h):\n",
        "                            for k_w in range(K_w):\n",
        "                                #######################################################\n",
        "                                # Step 3: Calculating delta (offset) and mask\n",
        "                                #######################################################\n",
        "                                # Delta contains (dy, dx) for each kernel location; mask contains modulation strength.\n",
        "\n",
        "                                # Index for delta and mask\n",
        "                                k_idx = k_h * K_w + k_w\n",
        "                                # Offsets for this kernel position\n",
        "                                delta_y = delta[n, 2 * k_idx + 0, h_out, w_out]\n",
        "                                delta_x = delta[n, 2 * k_idx + 1, h_out, w_out]\n",
        "                                m = mask[n, k_idx, h_out, w_out]\n",
        "\n",
        "                                #######################################################\n",
        "                                # Step 4: Computing the deformed sampling position\n",
        "                                #######################################################\n",
        "                                # Compute the deformed sampling position\n",
        "\n",
        "                                # Base position in padded input\n",
        "                                y = h_out * stride + k_h * dilation\n",
        "                                x = w_out * stride + k_w * dilation\n",
        "\n",
        "                                # Add offset\n",
        "                                y_sample = y + delta_y\n",
        "                                x_sample = x + delta_x\n",
        "\n",
        "                                #######################################################\n",
        "                                # Step 5: Bilinear interpolation from the input feature map\n",
        "                                #######################################################\n",
        "                                # Use bilinear interpolation to sample nearby pixel values.\n",
        "\n",
        "                                # Sample from the padded input\n",
        "                                val = bilinear_interpolate(a_l_padded[n, c_in], y_sample, x_sample)\n",
        "\n",
        "                                #######################################################\n",
        "                                # Step 6: Applying the convolution weight and modulation mask\n",
        "                                #######################################################\n",
        "                                # Multiply interpolated value by the learned weight and the modulation scalar.\n",
        "                                out[n, c_out, h_out, w_out] += weight[c_out, c_in, k_h, k_w] * m * val\n",
        "\n",
        "    return out\n"
      ]
    },
    {
      "cell_type": "markdown",
      "metadata": {
        "id": "STikCzQveAOy"
      },
      "source": [
        "### **1.2 Validate Implementations in Sections 1.1**\n",
        "\n",
        "Run the following cell to validate/check whether your implementations in Sections 1.1 are correct. You will see your grade calculated for this part.\n",
        "\n",
        "**Do not change/add any code here.**"
      ]
    },
    {
      "cell_type": "code",
      "execution_count": 2,
      "metadata": {
        "colab": {
          "base_uri": "https://localhost:8080/"
        },
        "id": "1TV8vP-PeAlr",
        "outputId": "a71bb6ce-4616-43a2-f7a9-01594a8c114a"
      },
      "outputs": [
        {
          "output_type": "stream",
          "name": "stdout",
          "text": [
            "NumPy Output:\n",
            " [[454.93646 478.6857  422.1958 ]\n",
            " [531.8982  538.29285 478.7652 ]\n",
            " [474.43445 463.66626 392.68332]]\n",
            "PyTorch Output:\n",
            " [[454.93646 478.6857  422.1958 ]\n",
            " [531.8982  538.2928  478.7652 ]\n",
            " [474.43445 463.66623 392.68332]]\n",
            " Your grade is  30 /30.\n"
          ]
        }
      ],
      "source": [
        "import numpy as np\n",
        "import torch\n",
        "import torch.nn.functional as F\n",
        "from torchvision.ops import deform_conv2d\n",
        "np.random.seed(0)\n",
        "torch.manual_seed(0)\n",
        "\n",
        "# --- Define parameters ---\n",
        "N, C_in, H_in, W_in = 1, 3, 5, 5\n",
        "C_out, K_h, K_w = 2, 3, 3\n",
        "stride, padding, dilation = 1, 0, 1\n",
        "\n",
        "# Input\n",
        "np_input = np.arange(N * C_in * H_in * W_in, dtype=np.float32).reshape(N, C_in, H_in, W_in)\n",
        "torch_input = torch.tensor(np_input, dtype=torch.float32)\n",
        "\n",
        "# Offset: zero (no deformation)\n",
        "np_offset = np.random.rand(N, 2 * K_h * K_w, 3, 3).astype(np.float32)\n",
        "torch_offset = torch.tensor(np.copy(np_offset), dtype=torch.float32)\n",
        "\n",
        "# Mask: ones (no modulation)\n",
        "np_mask = np.ones((N, K_h * K_w, 3, 3), dtype=np.float32)\n",
        "torch_mask = torch.tensor(np_mask, dtype=torch.float32)\n",
        "\n",
        "# Weight: center=1\n",
        "np_weight = np.random.rand(C_out, C_in, K_h, K_w).astype(np.float32)\n",
        "torch_weight = torch.tensor(np.copy(np_weight), dtype=torch.float32)\n",
        "\n",
        "# Bias: zero\n",
        "np_bias = np.zeros((C_out), dtype=np.float32)\n",
        "torch_bias = torch.tensor(np.copy(np_bias), dtype=torch.float32)\n",
        "\n",
        "# --- Run NumPy Deformable Conv ---\n",
        "np_output = deform_conv2d_np(np_input, np_offset, np_mask, np_weight,\n",
        "                             stride=stride, padding=padding, dilation=dilation)\n",
        "\n",
        "# --- Run PyTorch Deformable Conv ---\n",
        "torch_output = deform_conv2d(\n",
        "    input=torch_input,\n",
        "    offset=torch_offset,\n",
        "    weight=torch_weight,\n",
        "    bias=torch_bias,\n",
        "    stride=stride,\n",
        "    padding=padding,\n",
        "    dilation=dilation,\n",
        "    mask=torch_mask\n",
        ")\n",
        "\n",
        "# --- Compare outputs ---\n",
        "print(\"NumPy Output:\\n\", np_output[0, 0])\n",
        "print(\"PyTorch Output:\\n\", torch_output[0, 0].detach().numpy())\n",
        "\n",
        "grade = 0\n",
        "if (np.allclose(np_output, torch_output.detach().numpy(), atol=1e-4) == True):\n",
        "    grade = 30\n",
        "else:\n",
        "    grade = 0\n",
        "print(\" Your grade is \", grade, \"/30.\")"
      ]
    },
    {
      "cell_type": "markdown",
      "metadata": {
        "id": "y2i5j56MUIyd"
      },
      "source": [
        "## **Task 2. Implement a CNN in PyTorch (40 pts)**\n",
        "\n",
        "In this task, you are expected to implement a training, validation and testing pipeline for a CNN model using PyTorch. You will work with CIFAR100 dataset which is available in torchvision.dataset.\n"
      ]
    },
    {
      "cell_type": "markdown",
      "metadata": {
        "id": "i5zQ-QU3sNIg"
      },
      "source": [
        "### **2.1 Implementing DataLoader (2.5 Points)**\n",
        "In this task, you should implement a dataloader for CIFAR100 dataset. It is  a built-in dataset in the torchvision.datasets module, i.e. **you do not need to implement custom dataloader**.  Here, you can find examples about how a built-in dataset can be used:\n",
        "\n",
        "*   https://pytorch.org/vision/main/datasets.html\n",
        "\n",
        "The official CIFAR100 dataset contains only training and test splits. Therefore, you are expected to create a validation split from training data randomly, with **80% used for training** and **the remaining 20% reserved for validation**.\n"
      ]
    },
    {
      "cell_type": "code",
      "execution_count": 3,
      "metadata": {
        "colab": {
          "base_uri": "https://localhost:8080/"
        },
        "id": "d133Up5VsH_S",
        "outputId": "6007f058-0aa4-4fcf-f6bb-78e42c93aa8e"
      },
      "outputs": [
        {
          "output_type": "stream",
          "name": "stderr",
          "text": [
            "100%|██████████| 169M/169M [00:13<00:00, 12.9MB/s]\n"
          ]
        },
        {
          "output_type": "stream",
          "name": "stdout",
          "text": [
            "Total samples in CIFAR-100 training set: 50000\n",
            "Training split: 40000 samples (80.00%)\n",
            "Validation split: 10000 samples (20.00%)\n",
            "Test split: 10000 samples\n"
          ]
        }
      ],
      "source": [
        "from torchvision.datasets import CIFAR100\n",
        "from torch.utils.data import DataLoader, random_split\n",
        "import torchvision.transforms as transforms\n",
        "\n",
        "# Create DataLoader\n",
        "batch_size = 64\n",
        "\n",
        "# Define transformations\n",
        "transform_train = transforms.Compose([\n",
        "    transforms.RandomHorizontalFlip(),\n",
        "    transforms.RandomCrop(32, padding=4),\n",
        "    transforms.ToTensor(),\n",
        "])\n",
        "\n",
        "transform_validationAndtest = transforms.Compose([\n",
        "    transforms.ToTensor(),\n",
        "])\n",
        "\n",
        "\n",
        "# Define full training set\n",
        "full_train_set = CIFAR100(root='./data', train=True, download=True, transform=transform_train)\n",
        "\n",
        "\n",
        "# Calculate split lengths , Perform split\n",
        "train_size = int(0.8 * len(full_train_set))\n",
        "val_size = len(full_train_set) - train_size\n",
        "\n",
        "train_set, val_set = random_split(full_train_set, [train_size, val_size]) # @TODO: Modify this line\n",
        "\n",
        "# Update val_set transform to use validation transform\n",
        "val_set.dataset.transform = transform_validationAndtest\n",
        "\n",
        "# Define Data loaders for training and validation splits\n",
        "train_loader = DataLoader(train_set, batch_size=batch_size, shuffle=True, num_workers=2) # Modify this line\n",
        "val_loader = DataLoader(val_set, batch_size=batch_size, shuffle=False, num_workers=2) # Modify this line\n",
        "\n",
        "# Define Test set and loader.\n",
        "test_set = CIFAR100(root='./data', train=False, download=True, transform=transform_validationAndtest) # Modify this line\n",
        "test_loader = DataLoader(test_set, batch_size=batch_size, shuffle=False, num_workers=2) #  Modify this line\n",
        "\n",
        "# Print Split Ratios\n",
        "print(f\"Total samples in CIFAR-100 training set: {len(full_train_set)}\")\n",
        "print(f\"Training split: {len(train_set)} samples ({len(train_set)/len(full_train_set)*100:.2f}%)\")\n",
        "print(f\"Validation split: {len(val_set)} samples ({len(val_set)/len(full_train_set)*100:.2f}%)\")\n",
        "print(f\"Test split: {len(test_set)} samples\")"
      ]
    },
    {
      "cell_type": "markdown",
      "metadata": {
        "id": "oGuKQ2z3w4TI"
      },
      "source": [
        "### **2.2 Implement a CNN Model (2.5 Points)**\n",
        "In this task, you are expected to implement CustomCNN class according to the following specifications:\n",
        "\n",
        "*   Use at least three Conv2d Layers,\n",
        "*   Use at least one Pooling2d layer,\n",
        "*   Use at least two fully-connected layers,\n",
        "*   Do not use any normalization layer.\n",
        "\n",
        "There are no limitations for the model as long as you follow the above specifications."
      ]
    },
    {
      "cell_type": "code",
      "execution_count": 4,
      "metadata": {
        "colab": {
          "base_uri": "https://localhost:8080/"
        },
        "id": "Nd3MdZ_TxMcM",
        "outputId": "c35d7d31-f551-47ab-c47a-1458e947755f"
      },
      "outputs": [
        {
          "output_type": "stream",
          "name": "stdout",
          "text": [
            "CustomCNN(\n",
            "  (conv1): Conv2d(3, 32, kernel_size=(3, 3), stride=(1, 1), padding=(1, 1))\n",
            "  (conv2): Conv2d(32, 64, kernel_size=(3, 3), stride=(1, 1), padding=(1, 1))\n",
            "  (conv3): Conv2d(64, 128, kernel_size=(3, 3), stride=(1, 1), padding=(1, 1))\n",
            "  (pool): MaxPool2d(kernel_size=2, stride=2, padding=0, dilation=1, ceil_mode=False)\n",
            "  (fc1): Linear(in_features=8192, out_features=256, bias=True)\n",
            "  (fc2): Linear(in_features=256, out_features=100, bias=True)\n",
            ")\n"
          ]
        }
      ],
      "source": [
        "import torch\n",
        "import torch.nn as nn\n",
        "import torch.nn.functional as F\n",
        "\n",
        "class CustomCNN(nn.Module):\n",
        "    def __init__(self, norm_layer= None):\n",
        "        super(CustomCNN, self).__init__()\n",
        "\n",
        "        # Define layers of CNN. Do not forget to follow model specifications!.\n",
        "        self.conv1 = nn.Conv2d(3, 32, kernel_size=3, padding=1)\n",
        "        self.conv2 = nn.Conv2d(32, 64, kernel_size=3, padding=1)\n",
        "        self.conv3 = nn.Conv2d(64, 128, kernel_size=3, padding=1)\n",
        "        self.pool = nn.MaxPool2d(2, 2)\n",
        "        self.fc1 = nn.Linear(128 * 8 * 8, 256)  # After two poolings on 32x32 input: 8x8\n",
        "        self.fc2 = nn.Linear(256, 100)\n",
        "\n",
        "\n",
        "    def forward(self, x):\n",
        "\n",
        "        # Implement the forward pass\n",
        "        x = F.relu(self.conv1(x))\n",
        "        x = self.pool(F.relu(self.conv2(x)))\n",
        "        x = F.relu(self.conv3(x))\n",
        "        x = self.pool(x)\n",
        "        x = x.view(x.size(0), -1)\n",
        "        x = F.relu(self.fc1(x))\n",
        "        x = self.fc2(x)\n",
        "\n",
        "        return x\n",
        "\n",
        "\n",
        "# Create model instance\n",
        "model = CustomCNN()\n",
        "\n",
        "# Print model summary\n",
        "print(model)"
      ]
    },
    {
      "cell_type": "markdown",
      "metadata": {
        "id": "rdGKPcCkxl-N"
      },
      "source": [
        "###**2.3 Define Your Optimizer and Loss function**\n",
        "This task involves setting up a loss function and an optimizer for training a model. The loss function measures prediction accuracy. The optimizer, such as SGD or Adam, updates model weights based on the loss. Key parameters like learning rate and weight decay should be set appropriately. The model must also be moved to the correct device (CPU/GPU) before training.\n",
        "\n",
        "Here, you can reuse the relevant bit of your solution to THE1.\n"
      ]
    },
    {
      "cell_type": "code",
      "execution_count": 5,
      "metadata": {
        "colab": {
          "base_uri": "https://localhost:8080/"
        },
        "id": "l2DgGyJ7xskR",
        "outputId": "665dda63-37e8-4e65-b697-0365d6c7a08a"
      },
      "outputs": [
        {
          "output_type": "stream",
          "name": "stdout",
          "text": [
            "Loss Function: CrossEntropyLoss()\n",
            "Optimizer: Adam (\n",
            "Parameter Group 0\n",
            "    amsgrad: False\n",
            "    betas: (0.9, 0.999)\n",
            "    capturable: False\n",
            "    differentiable: False\n",
            "    eps: 1e-08\n",
            "    foreach: None\n",
            "    fused: None\n",
            "    lr: 0.001\n",
            "    maximize: False\n",
            "    weight_decay: 0.0001\n",
            ")\n"
          ]
        }
      ],
      "source": [
        "import torch.optim as optim\n",
        "\n",
        "# Define a loss function\n",
        "loss_function = torch.nn.CrossEntropyLoss()\n",
        "\n",
        "# Set your learning_rate, weight_decay or other optimizer-related parameters.\n",
        "learning_rate = 0.001\n",
        "weight_decay = 1e-4\n",
        "\n",
        "# Replace with your model instance\n",
        "model = CustomCNN()\n",
        "\n",
        "# pass model to device (CPU or GPU)\n",
        "device = torch.device('cuda' if torch.cuda.is_available() else 'cpu')\n",
        "model = model.to(device)\n",
        "\n",
        "# Choose an optimizer\n",
        "optimizer = optim.Adam(model.parameters(), lr=learning_rate, weight_decay=weight_decay)\n",
        "\n",
        "# Print optimizer and loss function\n",
        "print(\"Loss Function:\", loss_function)\n",
        "print(\"Optimizer:\", optimizer)"
      ]
    },
    {
      "cell_type": "markdown",
      "metadata": {
        "id": "IDD9sTc9yXTq"
      },
      "source": [
        "### **2.4 Optional Steps**\n",
        "You can use here for additional codes/implementations if necessary."
      ]
    },
    {
      "cell_type": "code",
      "execution_count": 5,
      "metadata": {
        "id": "Ic4hPUWjyUAm"
      },
      "outputs": [],
      "source": []
    },
    {
      "cell_type": "markdown",
      "metadata": {
        "id": "aTQ5PW8NyYXP"
      },
      "source": [
        "### **2.5 Implement Training Pipeline (10 Points)**\n",
        "\n",
        "This task involves implementing training and validation loops for a model.\n",
        "\n",
        "* The `train()` function:\n",
        " * Iterates through the training data (`train_loader`).\n",
        " * For each batch, extracts images and labels, moves them to the appropriate device (CPU/GPU), performs a forward pass (calculates predictions and loss), and performs the backward pass (computes gradients and updates the model weights).\n",
        " * Returns the average training loss, top-1 and top-5 accuracies. (Top-1 accuracy measures how often the class with the highest prediction scores matches the ground truth, while Top-5 accuracy checks if the ground truth label is among the top 5 classes with the highest prediction scores.)\n",
        "\n",
        "* The `validate()` function:\n",
        " * Iterates through the validation data (`val_loader`) without updating the model weights (using `torch.no_grad()`).\n",
        " * Computes predictions, loss, and calculates accuracy by comparing predictions with true labels.\n",
        " * Returns the average validation loss and top-1 and top-5 accuracies.\n",
        "\n",
        "\n",
        "* These functions should be called in a loop for multiple epochs. Your final model should converge on the training data, so make sure to use an adequate number of epochs for proper training. You need to store and print the loss, top-1 and top-5 accuracies values for both training and validation after each epoch to track model performance."
      ]
    },
    {
      "cell_type": "code",
      "execution_count": 6,
      "metadata": {
        "colab": {
          "base_uri": "https://localhost:8080/"
        },
        "id": "45c_z_-BUCNv",
        "outputId": "8209cb8e-1aa5-4332-e5eb-f8d0df937fb5"
      },
      "outputs": [
        {
          "output_type": "stream",
          "name": "stdout",
          "text": [
            "Epoch 1: Train Loss=3.8875, Val Loss=3.4522, Train Top-1=10.57%, Val Top-1=17.05%\n",
            "Epoch 2: Train Loss=3.2394, Val Loss=3.0583, Train Top-1=21.74%, Val Top-1=25.40%\n",
            "Epoch 3: Train Loss=2.8411, Val Loss=2.7850, Train Top-1=28.91%, Val Top-1=30.35%\n",
            "Epoch 4: Train Loss=2.5602, Val Loss=2.6834, Train Top-1=34.51%, Val Top-1=32.64%\n",
            "Epoch 5: Train Loss=2.3394, Val Loss=2.5745, Train Top-1=39.01%, Val Top-1=35.04%\n",
            "Epoch 6: Train Loss=2.1383, Val Loss=2.5398, Train Top-1=43.69%, Val Top-1=36.00%\n",
            "Epoch 7: Train Loss=1.9651, Val Loss=2.5959, Train Top-1=47.38%, Val Top-1=36.18%\n",
            "Epoch 8: Train Loss=1.7926, Val Loss=2.5999, Train Top-1=51.23%, Val Top-1=37.17%\n",
            "Epoch 9: Train Loss=1.6434, Val Loss=2.6636, Train Top-1=54.81%, Val Top-1=37.05%\n",
            "Epoch 10: Train Loss=1.5014, Val Loss=2.7168, Train Top-1=58.23%, Val Top-1=36.19%\n",
            "Epoch 11: Train Loss=1.3461, Val Loss=2.8576, Train Top-1=62.09%, Val Top-1=36.08%\n",
            "Epoch 12: Train Loss=1.2145, Val Loss=3.0577, Train Top-1=65.22%, Val Top-1=35.68%\n",
            "Epoch 13: Train Loss=1.0895, Val Loss=3.1994, Train Top-1=68.53%, Val Top-1=34.79%\n",
            "Epoch 14: Train Loss=0.9790, Val Loss=3.4145, Train Top-1=71.41%, Val Top-1=34.71%\n",
            "Epoch 15: Train Loss=0.8684, Val Loss=3.5758, Train Top-1=74.18%, Val Top-1=34.31%\n",
            "Epoch 16: Train Loss=0.7748, Val Loss=3.8437, Train Top-1=76.56%, Val Top-1=33.24%\n",
            "Epoch 17: Train Loss=0.6942, Val Loss=4.1141, Train Top-1=78.47%, Val Top-1=32.93%\n",
            "Epoch 18: Train Loss=0.6090, Val Loss=4.4018, Train Top-1=81.14%, Val Top-1=33.16%\n",
            "Epoch 19: Train Loss=0.5453, Val Loss=4.9216, Train Top-1=82.69%, Val Top-1=32.44%\n",
            "Epoch 20: Train Loss=0.4774, Val Loss=5.1081, Train Top-1=84.62%, Val Top-1=31.79%\n"
          ]
        }
      ],
      "source": [
        "def train(model, train_loader, optimizer, loss_function, device):\n",
        "    # get the model to training mode\n",
        "    model.train()\n",
        "\n",
        "    total_loss = 0.0\n",
        "    total_top1 = 0.0\n",
        "    total_top5 = 0.0\n",
        "    total_samples = 0\n",
        "\n",
        "    for batch in train_loader:\n",
        "        # get images and their labels from the batch\n",
        "        images, labels = batch\n",
        "\n",
        "        # pass your tensor to your device (CPU or GPU)\n",
        "        images = images.to(device)\n",
        "        labels = labels.to(device)\n",
        "\n",
        "        # Implement forward pass\n",
        "        # HINT: Compute predictions and loss\n",
        "        outputs = model(images)\n",
        "        loss = loss_function(outputs, labels)\n",
        "\n",
        "        total_loss += loss.item() * images.size(0)\n",
        "\n",
        "        # Implement backward pass and optimization step\n",
        "        # HINT: Clear gradients, backpropagate, and update weights\n",
        "        optimizer.zero_grad()\n",
        "        loss.backward()\n",
        "        optimizer.step()\n",
        "\n",
        "        # Update accuracy metrics and loss\n",
        "        _, pred_top1 = outputs.topk(1, dim=1)\n",
        "        _, pred_top5 = outputs.topk(5, dim=1)\n",
        "        total_top1 += (pred_top1.squeeze() == labels).sum().item()\n",
        "        total_top5 += sum([labels[i] in pred_top5[i] for i in range(labels.size(0))])\n",
        "        total_samples += images.size(0)\n",
        "\n",
        "    avg_loss = total_loss / total_samples\n",
        "    avg_top1 = 100.0 * total_top1 / total_samples\n",
        "    avg_top5 = 100.0 * total_top5 / total_samples\n",
        "\n",
        "    return avg_loss, avg_top1, avg_top5\n",
        "\n",
        "def validate(model, val_loader, loss_function, device):\n",
        "    # get the model to evaluation mode\n",
        "    model.eval()\n",
        "\n",
        "    running_loss = 0.0\n",
        "    total_top1 = 0.0\n",
        "    total_top5 = 0.0\n",
        "    total_samples = 0\n",
        "\n",
        "    with torch.no_grad():\n",
        "        for batch in val_loader:\n",
        "            # extract images and label from batch\n",
        "            images, labels = batch\n",
        "\n",
        "            # pass your tensor to your device(CPU/GPU)\n",
        "            images = images.to(device)\n",
        "            labels = labels.to(device)\n",
        "\n",
        "            # Implement validation forward pass\n",
        "            # HINT: Compute predictions and loss\n",
        "            outputs = model(images)\n",
        "            loss = loss_function(outputs, labels)\n",
        "\n",
        "            running_loss += loss.item() * images.size(0)\n",
        "\n",
        "            # Calculate accuracies\n",
        "            # HINT: Compare predictions with labels\n",
        "            _, pred_top1 = outputs.topk(1, dim=1)\n",
        "            _, pred_top5 = outputs.topk(5, dim=1)\n",
        "            total_top1 += (pred_top1.squeeze() == labels).sum().item()\n",
        "            total_top5 += sum([labels[i] in pred_top5[i] for i in range(labels.size(0))])\n",
        "            total_samples += images.size(0)\n",
        "\n",
        "    avg_loss = running_loss / total_samples\n",
        "    avg_top1 = 100.0 * total_top1 / total_samples\n",
        "    avg_top5 = 100.0 * total_top5 / total_samples\n",
        "\n",
        "    return avg_loss, avg_top1, avg_top5\n",
        "\n",
        "# Call train and validate functions in a loop for multiple epochs\n",
        "# Store loss value and accuracy of training and validation data for each epoch.\n",
        "num_epochs = 20\n",
        "train_losses, val_losses = [], []\n",
        "train_accuracies_top1, train_accuracies_top5 = [], []\n",
        "val_accuracies_top1, val_accuracies_top5 = [], []\n",
        "for epoch in range(num_epochs):\n",
        "    train_loss, train_top1, train_top5 = train(model, train_loader, optimizer, loss_function, device)\n",
        "    val_loss, val_top1, val_top5 = validate(model, val_loader, loss_function, device)\n",
        "    train_losses.append(train_loss)\n",
        "    val_losses.append(val_loss)\n",
        "    train_accuracies_top1.append(train_top1)\n",
        "    train_accuracies_top5.append(train_top5)\n",
        "    val_accuracies_top1.append(val_top1)\n",
        "    val_accuracies_top5.append(val_top5)\n",
        "    print(f\"Epoch {epoch+1}: Train Loss={train_loss:.4f}, Val Loss={val_loss:.4f}, Train Top-1={train_top1:.2f}%, Val Top-1={val_top1:.2f}%\")"
      ]
    },
    {
      "cell_type": "markdown",
      "metadata": {
        "id": "S-BO3sLL4jMH"
      },
      "source": [
        "### **2.6 Plot Loss Curves and Test Accuracies (5 Points)**\n",
        "In this task, you should plot two different graphs:\n",
        "\n",
        "1.   Training and validation losses versus epoch in a single graph.\n",
        "2.   Training and validation accuracies (both top-1 and top-5) versus epoch in a single graph.\n",
        "\n",
        "You should also report test accuracies (top-1 and top-5)."
      ]
    },
    {
      "cell_type": "code",
      "execution_count": 7,
      "metadata": {
        "colab": {
          "base_uri": "https://localhost:8080/",
          "height": 975
        },
        "id": "O92UtpAB47r7",
        "outputId": "0930cfae-e27b-4b1e-84de-e49f390e2759"
      },
      "outputs": [
        {
          "output_type": "display_data",
          "data": {
            "text/plain": [
              "<Figure size 800x500 with 1 Axes>"
            ],
            "image/png": "[encoded data removed]"
          },
          "metadata": {}
        },
        {
          "output_type": "display_data",
          "data": {
            "text/plain": [
              "<Figure size 800x500 with 1 Axes>"
            ],
            "image/png": "[encoded data removed]"
          },
          "metadata": {}
        },
        {
          "output_type": "stream",
          "name": "stdout",
          "text": [
            "Test Accuracy top-1 and top-5: 32.33% 60.83%\n"
          ]
        }
      ],
      "source": [
        "import matplotlib.pyplot as plt\n",
        "import tqdm\n",
        "\n",
        "def plot_loss(train_losses, val_losses):\n",
        "    # train_losses:    List to store training losses for each epoch\n",
        "    # val_losses:      List to store validation losses for each epoch\n",
        "\n",
        "    # plot the training and validation loss\n",
        "    plt.figure(figsize=(8, 5))\n",
        "    plt.plot(train_losses, label='Train Loss')\n",
        "    plt.plot(val_losses, label='Validation Loss')\n",
        "    plt.xlabel('Epoch')\n",
        "    plt.ylabel('Loss')\n",
        "    plt.title('Training and Validation Loss')\n",
        "    plt.legend()\n",
        "\n",
        "    plt.show()\n",
        "\n",
        "def plot_accuries(train_top1, train_top5, val_top1, val_top5):\n",
        "    # train_top1: List to store training top-1 accuries for each epoch\n",
        "    # train_top5: List to store training top-5 accuries for each epoch\n",
        "    # val_top1:   List to store val top-1 accuries for each epoch\n",
        "    # val_top5:   List to store val top-5 accuries for each epoch\n",
        "\n",
        "    # plot the training and validation accuries\n",
        "    plt.figure(figsize=(8, 5))\n",
        "    plt.plot(train_top1, label='Train Top-1 Accuracy')\n",
        "    plt.plot(val_top1, label='Validation Top-1 Accuracy')\n",
        "    plt.plot(train_top5, label='Train Top-5 Accuracy', linestyle='--')\n",
        "    plt.plot(val_top5, label='Validation Top-5 Accuracy', linestyle='--')\n",
        "    plt.xlabel('Epoch')\n",
        "    plt.ylabel('Accuracy (%)')\n",
        "    plt.title('Training and Validation Accuracies')\n",
        "    plt.legend()\n",
        "\n",
        "    plt.show()\n",
        "\n",
        "def report_accuracy(test_loader, model):\n",
        "    correct_top1 = 0\n",
        "    correct_top5 = 0\n",
        "    total = 0\n",
        "    with torch.no_grad():\n",
        "        model.eval()\n",
        "        for batch in test_loader:\n",
        "            # get images and their labels from batch\n",
        "            images, labels = batch\n",
        "            # pass your tensor to your device( CPU/GPU)\n",
        "            images = images.to(next(model.parameters()).device)\n",
        "            labels = labels.to(next(model.parameters()).device)\n",
        "            # Implement validation forward pass\n",
        "            # HINT: Compute predictions and loss\n",
        "            outputs = model(images)\n",
        "            # Calculate accuracy\n",
        "            # HINT: Compare predictions with labels\n",
        "            _, pred_top1 = outputs.topk(1, dim=1)\n",
        "            _, pred_top5 = outputs.topk(5, dim=1)\n",
        "            correct_top1 += (pred_top1.squeeze() == labels).sum().item()\n",
        "            correct_top5 += sum([labels[i] in pred_top5[i] for i in range(labels.size(0))])\n",
        "            total += images.size(0)\n",
        "\n",
        "    accuracy_top1 = (correct_top1 / total) * 100\n",
        "    accuracy_top5 = (correct_top5 / total) * 100\n",
        "    return accuracy_top1,accuracy_top5\n",
        "\n",
        "# call plot_loss and compute_confusion matrix function with appropriate parameters\n",
        "plot_loss(train_losses, val_losses) # @TODO: modify argument based on your code\n",
        "plot_accuries(train_accuracies_top1, train_accuracies_top5, val_accuracies_top1,val_accuracies_top5) #TODO: modify argument based on your code\n",
        "\n",
        "test_accuracy = report_accuracy(test_loader, model) # modify argument based on your code\n",
        "print(f\"Test Accuracy top-1 and top-5: {test_accuracy[0]:.2f}% {test_accuracy[1]:.2f}%\")"
      ]
    },
    {
      "cell_type": "markdown",
      "metadata": {
        "id": "R9rNpdLj53nn"
      },
      "source": [
        "### **2.7 Change and Finetune Your Model (20 Points)**\n",
        "\n",
        "* Add BatchNorm2d with learnable parameters after each Conv2D layer.\n",
        "\n",
        "* Try different optimizers including SGD, Adam.\n",
        "\n",
        "* Search for a better **learning rate** on the validation data.\n",
        "\n",
        "* For each combination of model, optimizer and learning settings plot graphs mentioned in Section 2.7.\n",
        "\n",
        "* For the best parameters, model and optimizer settings, report test accuricies.\n",
        "\n",
        "* **Discuss your results** with respect to overfitting/underfitting and the impact of the hyper-parameters."
      ]
    },
    {
      "cell_type": "markdown",
      "metadata": {
        "id": "WL5qFBKz4s48"
      },
      "source": [
        "#### **2.7.1 Hyperparameter Optimization (5 Points)**\n",
        "In this part, you should perform hyperparameter optimization using all possible combinations (grid-search) of the given learning rates, optimizer and BatchNorm2d settings."
      ]
    },
    {
      "cell_type": "markdown",
      "metadata": {
        "id": "v1eBqzqNieJF"
      },
      "source": [
        "First, you are expected re-implement your model in Section 2.2 using BatchNorm2D layer after each convlution layer."
      ]
    },
    {
      "cell_type": "code",
      "execution_count": 8,
      "metadata": {
        "colab": {
          "base_uri": "https://localhost:8080/"
        },
        "id": "0OSjL4Ne5l05",
        "outputId": "e5790059-df5d-478f-f846-dba515257e90"
      },
      "outputs": [
        {
          "output_type": "stream",
          "name": "stdout",
          "text": [
            "CustomCNNwithBN(\n",
            "  (conv1): Conv2d(3, 32, kernel_size=(3, 3), stride=(1, 1), padding=(1, 1))\n",
            "  (bn1): BatchNorm2d(32, eps=1e-05, momentum=0.1, affine=True, track_running_stats=True)\n",
            "  (conv2): Conv2d(32, 64, kernel_size=(3, 3), stride=(1, 1), padding=(1, 1))\n",
            "  (bn2): BatchNorm2d(64, eps=1e-05, momentum=0.1, affine=True, track_running_stats=True)\n",
            "  (conv3): Conv2d(64, 128, kernel_size=(3, 3), stride=(1, 1), padding=(1, 1))\n",
            "  (bn3): BatchNorm2d(128, eps=1e-05, momentum=0.1, affine=True, track_running_stats=True)\n",
            "  (pool): MaxPool2d(kernel_size=2, stride=2, padding=0, dilation=1, ceil_mode=False)\n",
            "  (fc1): Linear(in_features=2048, out_features=256, bias=True)\n",
            "  (fc2): Linear(in_features=256, out_features=100, bias=True)\n",
            ")\n"
          ]
        }
      ],
      "source": [
        "class CustomCNNwithBN(nn.Module):\n",
        "    def __init__(self, norm_layer= None):\n",
        "        super(CustomCNNwithBN, self).__init__()\n",
        "\n",
        "        # Define layers of CNN implemented in Section 2.3.\n",
        "        # You should use BatchNorm2D layer after each Conv2D layer.\n",
        "        self.conv1 = nn.Conv2d(3, 32, kernel_size=3, padding=1)\n",
        "        self.bn1 = nn.BatchNorm2d(32) # Add BatchNorm2d after conv1\n",
        "        self.conv2 = nn.Conv2d(32, 64, kernel_size=3, padding=1)\n",
        "        self.bn2 = nn.BatchNorm2d(64) # Add BatchNorm2d after conv2\n",
        "        self.conv3 = nn.Conv2d(64, 128, kernel_size=3, padding=1)\n",
        "        self.bn3 = nn.BatchNorm2d(128) # Add BatchNorm2d after conv3\n",
        "        self.pool = nn.MaxPool2d(2, 2)\n",
        "        # The size after the conv and pool layers: Input 32x32 -> conv1 (32x32) -> pool (16x16) -> conv2 (16x16) -> pool (8x8) -> conv3 (8x8)\n",
        "        self.fc1 = nn.Linear(128 * 4 * 4, 256)\n",
        "        self.fc2 = nn.Linear(256, 100)\n",
        "\n",
        "\n",
        "    def forward(self, x):\n",
        "\n",
        "        # Implement the forward pass\n",
        "        # HINT: Apply activation functions like ReLU where necessary\n",
        "        x = self.pool(F.relu(self.bn1(self.conv1(x))))\n",
        "        x = self.pool(F.relu(self.bn2(self.conv2(x))))\n",
        "        x = F.relu(self.bn3(self.conv3(x)))\n",
        "        x = self.pool(x)\n",
        "        x = x.view(x.size(0), -1)\n",
        "        x = F.relu(self.fc1(x))\n",
        "        x = self.fc2(x)\n",
        "\n",
        "        return x\n",
        "\n",
        "# Create model instance\n",
        "model_bn = CustomCNNwithBN()\n",
        "\n",
        "# Print model summary\n",
        "print(model_bn)"
      ]
    },
    {
      "cell_type": "markdown",
      "metadata": {
        "id": "da948hg9jSJg"
      },
      "source": [
        "For each combination, you should retrain your model from scratch and store the loss and accuracies of validation data. **All remaining settings/parameters should be fixed, except for the learning rate, optimizer and BatchNorm2d usage.**"
      ]
    },
    {
      "cell_type": "code",
      "execution_count": null,
      "metadata": {
        "colab": {
          "base_uri": "https://localhost:8080/"
        },
        "id": "vb-ZlSTc52y4",
        "outputId": "228fc5f5-38f6-4d82-a958-ce4a7ce6fc8a"
      },
      "outputs": [
        {
          "output_type": "stream",
          "name": "stdout",
          "text": [
            "Training: Model=NoBN, Optimizer=Adam, LR=0.0001\n",
            "------------------------------\n",
            "Training: Model=NoBN, Optimizer=Adam, LR=0.001\n"
          ]
        }
      ],
      "source": [
        "learning_rates = [0.0001, 0.001]\n",
        "optimizer_classes = [torch.optim.Adam, torch.optim.SGD]\n",
        "model_configs = {\n",
        "     \"NoBN\": CustomCNN,\n",
        "    \"WithBN\": CustomCNNwithBN\n",
        "}\n",
        "\n",
        "# Dictionary to store results for each combination\n",
        "results = {}\n",
        "\n",
        "# Get the device (CPU or GPU)\n",
        "device = torch.device('cuda' if torch.cuda.is_available() else 'cpu')\n",
        "\n",
        "num_epochs_grid_search = 15 # Reduced epochs for grid search for quicker iteration\n",
        "\n",
        "# implement a nested for loop to make a grid search over the given\n",
        "# learning_rates, models and optimizers. Do not forget to reinitialize the model\n",
        "# to avoid weight sharing.\n",
        "\n",
        "for model_name, model_class in model_configs.items():\n",
        "    for optimizer_class in optimizer_classes:\n",
        "        for lr in learning_rates:\n",
        "            print(f\"Training: Model={model_name}, Optimizer={optimizer_class.__name__}, LR={lr}\")\n",
        "\n",
        "            # Reinitialize the model for each run\n",
        "            model = model_class().to(device)\n",
        "\n",
        "            # Define the optimizer\n",
        "            if optimizer_class == torch.optim.SGD:\n",
        "                 optimizer = optimizer_class(model.parameters(), lr=lr, weight_decay=1e-4, momentum=0.9) # Added momentum for SGD\n",
        "            else:\n",
        "                 optimizer = optimizer_class(model.parameters(), lr=lr, weight_decay=1e-4)\n",
        "\n",
        "            # Define the loss function (remains the same)\n",
        "            loss_function = torch.nn.CrossEntropyLoss()\n",
        "\n",
        "            # Lists to store metrics for this specific run\n",
        "            run_train_losses, run_val_losses = [], []\n",
        "            run_train_accuracies_top1, run_train_accuracies_top5 = [], []\n",
        "            run_val_accuracies_top1, run_val_accuracies_top5 = [], []\n",
        "\n",
        "            # Training loop for this combination\n",
        "            for epoch in range(num_epochs_grid_search):\n",
        "                train_loss, train_top1, train_top5 = train(model, train_loader, optimizer, loss_function, device)\n",
        "                val_loss, val_top1, val_top5 = validate(model, val_loader, loss_function, device)\n",
        "\n",
        "                run_train_losses.append(train_loss)\n",
        "                run_val_losses.append(val_loss)\n",
        "                run_train_accuracies_top1.append(train_top1)\n",
        "                run_train_accuracies_top5.append(train_top5)\n",
        "                run_val_accuracies_top1.append(val_top1)\n",
        "                run_val_accuracies_top5.append(val_top5)\n",
        "\n",
        "                # print(f\"  Epoch {epoch+1}/{num_epochs_grid_search}: Train Loss={train_loss:.4f}, Val Loss={val_loss:.4f}, Val Top-1={val_top1:.2f}%\")\n",
        "\n",
        "\n",
        "            # Store the results for this combination\n",
        "            key = f\"{model_name}_{optimizer_class.__name__}_lr{lr}\"\n",
        "            results[key] = {\n",
        "                'train_losses': run_train_losses,\n",
        "                'val_losses': run_val_losses,\n",
        "                'train_acc_top1': run_train_accuracies_top1,\n",
        "                'train_acc_top5': run_train_accuracies_top5,\n",
        "                'val_acc_top1': run_val_accuracies_top1,\n",
        "                'val_acc_top5': run_val_accuracies_top5,\n",
        "                'final_val_acc_top1': val_accuracies_top1[-1] if val_accuracies_top1 else 0 # Store final validation accuracy\n",
        "            }\n",
        "            print(\"-\" * 30)\n",
        "\n",
        "print(\"Grid search completed.\")"
      ]
    },
    {
      "cell_type": "markdown",
      "metadata": {
        "id": "1UGEauun69fu"
      },
      "source": [
        "#### **2.7.2 Choosing best parameters  (5 Points)**\n",
        "You should choose the parameters that give the highest top-1 accuracy on the validation data. Then, you should plot graph and report metrics mentioned in Section 2.7.\n",
        "\n",
        "\n"
      ]
    },
    {
      "cell_type": "code",
      "execution_count": null,
      "metadata": {
        "id": "41tLURQF7cqG"
      },
      "outputs": [],
      "source": [
        "best_val_accuracy = -1\n",
        "best_params = None\n",
        "best_run_key = None\n",
        "\n",
        "# Iterate through the stored results\n",
        "print(\"Analyzing grid search results...\")\n",
        "for key, metrics in results.items():\n",
        "    # The 'val_acc_top1' list stores validation top-1 accuracy per epoch.\n",
        "    # We want the highest accuracy achieved at any point during the grid search epochs\n",
        "    # for this specific configuration.\n",
        "    if 'val_acc_top1' in metrics and metrics['val_acc_top1']: # Ensure the key exists and list is not empty\n",
        "          current_max_val_accuracy = max(metrics['val_acc_top1'])\n",
        "    else:\n",
        "          current_max_val_accuracy = 0\n",
        "\n",
        "    # Check if this is the best validation accuracy found so far\n",
        "    if current_max_val_accuracy > best_val_accuracy:\n",
        "        best_val_accuracy = current_max_val_accuracy\n",
        "        best_run_key = key\n",
        "\n",
        "        parts = key.split('_')\n",
        "        best_params = {\n",
        "            'model': parts[0],\n",
        "            'optimizer': parts[1],\n",
        "            'lr': float(parts[2][2:]) # Extract LR value after 'lr'\n",
        "        }\n",
        "\n",
        "    # Print the best configuration found\n",
        "    print(f\"\\nBest performing configuration on validation data (based on max Top-1 accuracy during grid search):\")\n",
        "    print(f\"  Key: {best_run_key}\")\n",
        "    print(f\"  Maximum Validation Top-1 Accuracy during Grid Search: {best_val_accuracy:.2f}%\")\n",
        "    print(f\"  Parameters: {best_params}\")\n"
      ]
    },
    {
      "cell_type": "markdown",
      "metadata": {
        "id": "yonO5mOu7gFV"
      },
      "source": [
        "#### **2.7.3 Discuss your results (10 Points)**\n",
        "In this section, you should discuss your results with respect to overfitting/underfitting and the impact of the hyper-parameters."
      ]
    },
    {
      "cell_type": "markdown",
      "metadata": {
        "id": "LdkrQCZrHx_Y"
      },
      "source": []
    },
    {
      "cell_type": "markdown",
      "metadata": {
        "id": "eld-UX2dTr2l"
      },
      "source": [
        "## **Task 3: Implementing a RNN via torch.autograd (30 Points)**\n",
        "In this task, you should implement a Recurrent Neural Network (RNN) by manually unrolling an RNN and using PyTorch's `torch.autograd` to compute gradients explicitly.\n",
        "\n",
        "\n",
        "\n"
      ]
    },
    {
      "cell_type": "markdown",
      "metadata": {
        "id": "o_CB3s54Gll0"
      },
      "source": [
        "### **3.1 Input Pre-processing**\n",
        "In this part, you are expected to process an input string to estimate a given target. We use the string \"Deep Learning\" for a character-level prediction task. For example:\n",
        "\n",
        "\n",
        "```\n",
        "input:  D e e p   L e a r n i n\n",
        "target: e e p   L e a r n i n g\n",
        "```\n",
        "\n",
        "Each character should be converted to a one-hot vector, and the model should predict the next character in the sequence.\n"
      ]
    },
    {
      "cell_type": "code",
      "execution_count": null,
      "metadata": {
        "id": "PH9y0-IKG803"
      },
      "outputs": [],
      "source": [
        "import torch\n",
        "\n",
        "#######################################################\n",
        "# 1. Define input text and build vocabulary\n",
        "#######################################################\n",
        "\n",
        "text = \"Deep Learning\"  # Input text for character-level modeling\n",
        "\n",
        "# Create a sorted list of unique characters.\n",
        "# 'chars' will contain all unique characters in the input text sorted in alphabetical order\n",
        "chars = sorted(list(set(text))) # @TODO: modify this line\n",
        "\n",
        "# Create a mapping from character to index (char2idx) and index to character (idx2char)\n",
        "# 'char2idx' will map each unique character to a unique index, and 'idx2char' will reverse that mapping\n",
        "char2idx = {ch: idx for idx, ch in enumerate(chars)} # @TODO: modify this line\n",
        "idx2char = {idx: ch for idx, ch in enumerate(chars)} # @TODO: modify this line\n",
        "\n",
        "#######################################################\n",
        "# 2. Create input and target sequences\n",
        "#######################################################\n",
        "\n",
        "# Input: all characters except the last one\n",
        "# This is the input sequence for the RNN model. The input sequence will be \"Deep Learnin\"\n",
        "input_seq = text[:-1]  # @TODO: modify this line\n",
        "\n",
        "# Target: all characters except the first one\n",
        "# The target sequence is the same as the input sequence, but shifted by one character.\n",
        "# The target sequence will be \"eep Learning\"\n",
        "target_seq = text[1:]  # @TODO: modify this line\n",
        "\n",
        "#######################################################\n",
        "# 3. Define model hyperparameters\n",
        "#######################################################\n",
        "\n",
        "V = len(chars)       # Size of character vocabulary. Number of unique characters in the text.\n",
        "input_size = V       # One-hot input vector size. It's the same as vocab size, as each character is represented as one-hot.\n",
        "H = 16              # Number of hidden units in the RNN. This defines the dimensionality of the hidden state.\n",
        "output_size = V      # Output size. For each character in the sequence, we output a score for each possible character.\n",
        "seq_len = len(input_seq)      # Length of input sequence (i.e., the number of time steps).\n",
        "                              # This is the number of characters in the input sequence.\n",
        "\n",
        "# At this point, we have all the necessary components to train an RNN:\n",
        "# - A list of characters and their mappings to indices\n",
        "# - The input sequence and corresponding target sequence\n",
        "# - The hyperparameters that define the model's architecture\n",
        "\n",
        "#######################################################\n",
        "# 4. Convert characters to one-hot vectors\n",
        "#######################################################\n",
        "\n",
        "def one_hot(idx, size):\n",
        "    \"\"\"\n",
        "    Convert index to one-hot encoded vector of given size.\n",
        "\n",
        "    Args:\n",
        "    idx (int): The index of the character in the vocabulary.\n",
        "    size (int): The size of the one-hot encoded vector, typically equal to V.\n",
        "\n",
        "    Returns:\n",
        "    torch.Tensor: A one-hot encoded vector of size 'size' where the element at index 'idx' is 1, and all others are 0.\n",
        "    \"\"\"\n",
        "    #####################################################\n",
        "    # @TODO: Implement one-hot decoding\n",
        "    #####################################################\n",
        "    vec = torch.zeros(size)\n",
        "    vec[idx] = 1.0\n",
        "    return vec\n",
        "\n",
        "# Convert entire input sequence to one-hot encoded tensors\n",
        "# The input sequence is a string, and each character needs to be converted to a one-hot vector using the 'one_hot' function.\n",
        "# For each character in the input sequence, its index is retrieved from 'char2idx', and then the corresponding one-hot vector is generated.\n",
        "\n",
        "inputs = torch.stack([one_hot(char2idx[ch], V) for ch in input_seq]) # @TODO: modify this line (Convert entire input sequence to one-hot encoded tensors)\n",
        "\n",
        "# Convert target characters to integer labels (indices)\n",
        "# The target sequence contains the next character for each input character, so each character needs to be mapped to an index.\n",
        "# This is a typical setup where the model outputs indices, which will later be converted to actual characters.\n",
        "\n",
        "targets = torch.tensor([char2idx[ch] for ch in target_seq], dtype=torch.long) # @TODO: modify this line (Convert target characters to integer labels (indices))"
      ]
    },
    {
      "cell_type": "markdown",
      "metadata": {
        "id": "1bpDc1tG1JjT"
      },
      "source": [
        "### **3.2 Implement a Training Pipeline (30 Points)**\n",
        "\n",
        "In this part, you should implement the following RNN for an autoregressive character prediction problem with the vocabulary size (the number of possible characters) of ${V}$, the hidden state size (the number of hidden units) of ${H}$, and given the input-output pair $(\\mathbf{x}=(\\mathbf{x}_1, \\mathbf{x}_2, ...), y)$ -- e.g., ($\\mathbf{x}=($'D', 'e', 'e'$), y=$'p'):\n",
        "\n",
        "\\begin{align*}\n",
        "\\mathbf{h}_t &= \\tanh(\\mathbf{W}_{xh} \\, \\mathbf{x}_t + \\mathbf{b}_{ih} + \\mathbf{W}_{hh} \\, \\mathbf{h}_{t-1} + \\mathbf{b}_{hh}), \\\\\n",
        "\\mathbf{s}_t &= \\mathbf{W}_{hy} \\, \\mathbf{h}_t + \\mathbf{b}_y, \\\\\n",
        "\\mathbf{\\hat{y}}_t &= \\text{softmax}(\\mathbf{s}_t),\n",
        "\\end{align*}  \n",
        "where\n",
        "\n",
        "*      $\\mathbf{x}_t$: one-hot encoded input at time step $t$ (size: $V$),\n",
        "*      $\\mathbf{h}_t$: hidden state at time step $t$ (size: $H$),\n",
        "*      $\\mathbf{s}_t$: output logits at time step $t$ (size: $V$),\n",
        "*      $\\mathbf{\\hat{y}}_t$: predicted probabilities (size: $V$),\n",
        "*      $\\mathbf{W}_{xh}$: input-to-hidden weight matrix (size: $H \\times V$),\n",
        "*      $\\mathbf{W}_{hh}$: hidden-to-hidden weight matrix (size: $H \\times H$),\n",
        "*      $\\mathbf{b}_{xh}$: hidden bias (size: $H$),\n",
        "*      $\\mathbf{b}_{hh}$: hidden bias (size: $H$),\n",
        "*      $\\mathbf{W}_{hy}$: hidden-to-output weight matrix (size: $V \\times H$),\n",
        "*      $\\mathbf{b}_y$: output bias (size: $V$).\n",
        "\n",
        "Then, you should calculate **negative log likelihood loss (NLL)** between predicted probabilities ${\\mathbf{\\hat{y}}}$ and target $\\mathbf{y}$:\n",
        "\n",
        "\n",
        "$${L}_{\\text{NLL}} = - \\sum_{i=1}^{N} \\sum_{c=1}^{V} \\mathbf{y}_{ic} \\log \\mathbf{\\hat{y}}_{ic}$$\n",
        "\n"
      ]
    },
    {
      "cell_type": "code",
      "execution_count": null,
      "metadata": {
        "id": "G_CnDSbQH5K7"
      },
      "outputs": [],
      "source": [
        "###########################################################################\n",
        "# @TODO: Define W_xh, W_hh, b_xh, b_hh, W_hy and b_y as differentiable tensors.\n",
        "#        Initialize all weights randomly using a standard normal distribution.\n",
        "# HINT: Use the given V and H in coding cell of \"Section 3.1 Input Pre-processing\" to define them.\n",
        "\n",
        "# Do not modify variables names!\n",
        "W_xh = torch.randn(H, V, requires_grad=True)   # @TODO: modify this line\n",
        "W_hh = torch.randn(H, H, requires_grad=True)   # @TODO: modify this line\n",
        "b_xh = torch.randn(H, requires_grad=True)      # @TODO: modify this line\n",
        "b_hh = torch.randn(H, requires_grad=True)      # @TODO: modify this line\n",
        "W_hy = torch.randn(V, H, requires_grad=True)   # @TODO: modify this line\n",
        "b_y = torch.randn(V, requires_grad=True)       # @TODO: modify this line\n",
        "###########################################################################\n",
        "\n",
        "import torch.nn.functional as F\n",
        "\n",
        "logits_list = []\n",
        "h = torch.zeros(H)\n",
        "# Go over each time step to update the hidden state first and then calculate\n",
        "# the logits\n",
        "for t in range(seq_len):\n",
        "    ###########################################################################\n",
        "    # @TODO: Fill in this part to calculate logits\n",
        "    # h_t = tanh(W_xh @ x_t + b_xh + W_hh @ h_{t-1} + b_hh)\n",
        "    # s_t = W_hy @ h_t + b_y\n",
        "    x_t = inputs[t]\n",
        "    h = torch.tanh(W_xh @ x_t + b_xh + W_hh @ h + b_hh)\n",
        "    s_t = W_hy @ h + b_y\n",
        "    ###########################################################################\n",
        "    logits_list.append(s_t)\n",
        "\n",
        "logits = torch.stack(logits_list)\n",
        "log_probs = F.log_softmax(logits, dim=1)\n",
        "loss_manual = F.nll_loss(log_probs, targets)"
      ]
    },
    {
      "cell_type": "markdown",
      "metadata": {
        "id": "8T_9KxRBJQFm"
      },
      "source": [
        "### **3.3 Compute the gradient explicitly via torch.autograd**\n",
        "In this part, you are expected compute gradient using torch.autograd explicitly for each parameter, i.e. gradients of loss value with respect to:\n",
        "\n",
        "*   $\\mathbf{W}_{xh}$\n",
        "*   $\\mathbf{W}_{hh}$\n",
        "*   $\\mathbf{b}_{xh}$\n",
        "*   $\\mathbf{b}_{hh}$\n",
        "*   $\\mathbf{W}_{hy}$\n",
        "*   $\\mathbf{b}_{y}$\n",
        "\n"
      ]
    },
    {
      "cell_type": "code",
      "execution_count": null,
      "metadata": {
        "id": "eGAqAPKfCyrF"
      },
      "outputs": [],
      "source": [
        "# Calculate gradient for each parameter, separately.\n",
        "grad_W_xh = torch.autograd.grad(loss_manual, W_xh, retain_graph=True)[0] # @TODO: modify this line\n",
        "grad_W_hh = torch.autograd.grad(loss_manual, W_hh, retain_graph=True)[0] # @TODO: modify this line\n",
        "grad_b_xh = torch.autograd.grad(loss_manual, b_xh, retain_graph=True)[0] # @TODO: modify this line\n",
        "grad_b_hh = torch.autograd.grad(loss_manual, b_hh, retain_graph=True)[0] # @TODO: modify this line\n",
        "grad_W_hy = torch.autograd.grad(loss_manual, W_hy, retain_graph=True)[0] # @TODO: modify this line\n",
        "grad_b_y = torch.autograd.grad(loss_manual, b_y, retain_graph=True)[0]   # @TODO: modify this line\n",
        "\n",
        "# Now, concatenate the gradients\n",
        "manual_grads = [grad_W_xh, grad_W_hh, grad_b_xh, grad_b_hh, grad_W_hy, grad_b_y]"
      ]
    },
    {
      "cell_type": "markdown",
      "metadata": {
        "id": "LSE-lud6KoR_"
      },
      "source": [
        "### **3.4 Validate Implementation in Section 3.3**\n",
        "This part is only to validate your implementation in Section 3.3 and see your grade.\n",
        "\n",
        "**Do not modify/add any code here!**"
      ]
    },
    {
      "cell_type": "code",
      "execution_count": null,
      "metadata": {
        "colab": {
          "base_uri": "https://localhost:8080/"
        },
        "id": "FPH_wMH7K9XC",
        "outputId": "72d6b4f8-cd19-479a-f16e-c0ce400c7781"
      },
      "outputs": [
        {
          "name": "stdout",
          "output_type": "stream",
          "text": [
            "Δ W_xh: max abs diff = 6.482005e-07\n",
            "Δ W_hh: max abs diff = 1.072884e-06\n",
            "Δ b_xh: max abs diff = 8.940697e-07\n",
            "Δ b_hh: max abs diff = 8.940697e-07\n",
            "Δ W_hy: max abs diff = 5.960464e-08\n",
            "Δ b_y: max abs diff = 2.980232e-08\n",
            " Your grade is 30/30\n"
          ]
        }
      ],
      "source": [
        "import torch\n",
        "import torch.nn as nn\n",
        "import torch.nn.functional as F\n",
        "\n",
        "class SimpleRNN(nn.Module):\n",
        "    def __init__(self):\n",
        "        super().__init__()\n",
        "        self.rnn_cell = nn.RNNCell(input_size, H)\n",
        "        self.hidden_size = H\n",
        "        self.output_layer = nn.Linear(H, output_size)\n",
        "\n",
        "        with torch.no_grad():\n",
        "            self.rnn_cell.weight_ih.copy_(W_xh)  # manual weight W_xh matches weight_ih\n",
        "            self.rnn_cell.weight_hh.copy_(W_hh)\n",
        "            self.rnn_cell.bias_ih.copy_(b_xh)\n",
        "            self.rnn_cell.bias_hh.copy_(b_hh)\n",
        "\n",
        "            self.output_layer.weight.copy_(W_hy)\n",
        "            self.output_layer.bias.copy_(b_y)\n",
        "\n",
        "    def forward(self, x_seq):\n",
        "        h = torch.zeros(self.hidden_size)\n",
        "        logits = []\n",
        "        for x in x_seq:\n",
        "            h = self.rnn_cell(x, h)\n",
        "            y = self.output_layer(h)\n",
        "            logits.append(y)\n",
        "        return torch.stack(logits)\n",
        "\n",
        "grade = 0\n",
        "model = SimpleRNN()\n",
        "\n",
        "logits_ref = model(inputs)\n",
        "log_probs_ref = F.log_softmax(logits_ref, dim=1)\n",
        "loss_ref = F.nll_loss(log_probs_ref, targets)\n",
        "loss_ref.backward()\n",
        "\n",
        "# ----------------------------\n",
        "# 5. Compare Gradients\n",
        "# ----------------------------\n",
        "\n",
        "param_names = ['W_xh', 'W_hh', 'b_xh', 'b_hh', 'W_hy', 'b_y']\n",
        "model_grads = []\n",
        "\n",
        "#get model gradient\n",
        "for name, param in model.named_parameters():\n",
        "    if param.grad is not None:\n",
        "        model_grads.append(param.grad)\n",
        "\n",
        "for name, g1, g2 in zip(param_names, manual_grads, model_grads):\n",
        "    diff = (g1 - g2).abs().max()\n",
        "    print(f\"Δ {name}: max abs diff = {diff:.6e}\")\n",
        "    if diff > 1e-4:\n",
        "        print(\"❗ Significant difference\")\n",
        "    else:\n",
        "        grade += 5\n",
        "print(f\" Your grade is {grade}/30\")"
      ]
    }
  ],
  "metadata": {
    "accelerator": "GPU",
    "colab": {
      "collapsed_sections": [
        "oGuKQ2z3w4TI",
        "IDD9sTc9yXTq",
        "R9rNpdLj53nn"
      ],
      "gpuType": "T4",
      "provenance": [],
      "toc_visible": true,
      "include_colab_link": true
    },
    "kernelspec": {
      "display_name": ".venv",
      "language": "python",
      "name": "python3"
    },
    "language_info": {
      "codemirror_mode": {
        "name": "ipython",
        "version": 3
      },
      "file_extension": ".py",
      "mimetype": "text/x-python",
      "name": "python",
      "nbconvert_exporter": "python",
      "pygments_lexer": "ipython3",
      "version": "3.13.2"
    }
  },
  "nbformat": 4,
  "nbformat_minor": 0
}